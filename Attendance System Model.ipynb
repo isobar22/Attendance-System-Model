{
 "cells": [
  {
   "cell_type": "code",
   "execution_count": 1,
   "id": "ad4e97e9-950a-4e39-ab59-a45c7a4e9c20",
   "metadata": {},
   "outputs": [],
   "source": [
    "import cv2\n",
    "import numpy as np\n",
    "import face_recognition\n",
    "import os"
   ]
  },
  {
   "cell_type": "code",
   "execution_count": 2,
   "id": "05d3e67b-064a-4628-94b4-c4f835ec39d1",
   "metadata": {},
   "outputs": [
    {
     "name": "stdout",
     "output_type": "stream",
     "text": [
      "['Donald Trump.jpg', 'Joe Biden.gif', 'Test Image.gif']\n"
     ]
    }
   ],
   "source": [
    "path = r\"D:\\Attendance System Model\\Images\"\n",
    "images = []\n",
    "classNames = []\n",
    "myList = os.listdir(path)\n",
    "print(myList)"
   ]
  },
  {
   "cell_type": "code",
   "execution_count": 3,
   "id": "c346dda3-6c76-4363-9f9a-5446ea350641",
   "metadata": {},
   "outputs": [
    {
     "name": "stdout",
     "output_type": "stream",
     "text": [
      "['Donald Trump', 'Joe Biden', 'Test Image']\n"
     ]
    }
   ],
   "source": [
    "for cl in myList:\n",
    "    curImg = cv2.imread(f'{path}/{cl}')\n",
    "    images.append(curImg)\n",
    "    classNames.append(os.path.splitext(cl)[0])\n",
    "print(classNames)"
   ]
  },
  {
   "cell_type": "code",
   "execution_count": 4,
   "id": "99d38eb3-fb5d-4ea9-8996-f034e918fe27",
   "metadata": {},
   "outputs": [
    {
     "name": "stdout",
     "output_type": "stream",
     "text": [
      "Image loaded successfully\n"
     ]
    }
   ],
   "source": [
    "import cv2\n",
    "\n",
    "# Load the image\n",
    "image = cv2.imread(r\"D:\\Attendance System Model\\Images\\Donald Trump.jpg\")\n",
    "\n",
    "# Check if the image is loaded successfully\n",
    "if image is None:\n",
    "    print(\"Error: Image not loaded\")\n",
    "else:\n",
    "    print(\"Image loaded successfully\")\n",
    "    # Display the image\n",
    "    cv2.imshow('Loaded Image', image)\n",
    "    cv2.waitKey(0)\n",
    "    cv2.destroyAllWindows()\n",
    "\n"
   ]
  },
  {
   "cell_type": "code",
   "execution_count": 5,
   "id": "f4734621-42f8-45ee-9feb-38876d81dc1f",
   "metadata": {},
   "outputs": [
    {
     "name": "stdout",
     "output_type": "stream",
     "text": [
      "[[[ 75  81  81]\n",
      "  [ 83  90  90]\n",
      "  [ 78  87  87]\n",
      "  ...\n",
      "  [158 142 136]\n",
      "  [161 143 139]\n",
      "  [158 140 137]]\n",
      "\n",
      " [[ 82  86  88]\n",
      "  [ 78  83  85]\n",
      "  [ 80  88  89]\n",
      "  ...\n",
      "  [158 145 140]\n",
      "  [158 143 140]\n",
      "  [153 138 135]]\n",
      "\n",
      " [[ 92  93  97]\n",
      "  [ 87  90  94]\n",
      "  [ 85  91  93]\n",
      "  ...\n",
      "  [152 145 142]\n",
      "  [152 143 140]\n",
      "  [145 136 133]]\n",
      "\n",
      " ...\n",
      "\n",
      " [[137 142 141]\n",
      "  [136 141 140]\n",
      "  [137 142 141]\n",
      "  ...\n",
      "  [ 97 126 147]\n",
      "  [ 93 123 144]\n",
      "  [ 96 126 148]]\n",
      "\n",
      " [[137 144 141]\n",
      "  [136 143 140]\n",
      "  [136 143 140]\n",
      "  ...\n",
      "  [ 98 125 148]\n",
      "  [ 93 120 143]\n",
      "  [ 99 126 149]]\n",
      "\n",
      " [[137 145 141]\n",
      "  [135 143 139]\n",
      "  [134 142 138]\n",
      "  ...\n",
      "  [100 126 150]\n",
      "  [ 92 118 142]\n",
      "  [ 98 124 148]]]\n"
     ]
    },
    {
     "ename": "AttributeError",
     "evalue": "module 'face_recognition' has no attribute 'face_Locations'",
     "output_type": "error",
     "traceback": [
      "\u001b[1;31m---------------------------------------------------------------------------\u001b[0m",
      "\u001b[1;31mAttributeError\u001b[0m                            Traceback (most recent call last)",
      "Cell \u001b[1;32mIn[5], line 7\u001b[0m\n\u001b[0;32m      5\u001b[0m imgS \u001b[38;5;241m=\u001b[39m cv2\u001b[38;5;241m.\u001b[39mresize(img,(\u001b[38;5;241m0\u001b[39m,\u001b[38;5;241m0\u001b[39m),\u001b[38;5;28;01mNone\u001b[39;00m,\u001b[38;5;241m.25\u001b[39m,\u001b[38;5;241m.25\u001b[39m)\n\u001b[0;32m      6\u001b[0m imgS \u001b[38;5;241m=\u001b[39m cv2\u001b[38;5;241m.\u001b[39mcvtColor(imgS,cv2\u001b[38;5;241m.\u001b[39mCOLOR_BGR2RGB)\n\u001b[1;32m----> 7\u001b[0m facesCurFrame \u001b[38;5;241m=\u001b[39m \u001b[43mface_recognition\u001b[49m\u001b[38;5;241;43m.\u001b[39;49m\u001b[43mface_Locations\u001b[49m(imgS)\n\u001b[0;32m      8\u001b[0m encodeCurFrame \u001b[38;5;241m=\u001b[39m face_recognition\u001b[38;5;241m.\u001b[39mface_encodings(imgS,facesCurFrame)\n\u001b[0;32m      9\u001b[0m \u001b[38;5;28;01mfor\u001b[39;00m encodeFace,faceLoc \u001b[38;5;129;01min\u001b[39;00m \u001b[38;5;28mzip\u001b[39m(encodeCurFrame,facesCurFrame):\n",
      "\u001b[1;31mAttributeError\u001b[0m: module 'face_recognition' has no attribute 'face_Locations'"
     ]
    }
   ],
   "source": [
    "cap = cv2.VideoCapture(0)\n",
    "while True:\n",
    "    success, img = cap.read()\n",
    "    print(img)\n",
    "    imgS = cv2.resize(img,(0,0),None,.25,.25)\n",
    "    imgS = cv2.cvtColor(imgS,cv2.COLOR_BGR2RGB)\n",
    "    facesCurFrame = face_recognition.face_Locations(imgS)\n",
    "    encodeCurFrame = face_recognition.face_encodings(imgS,facesCurFrame)\n",
    "    for encodeFace,faceLoc in zip(encodeCurFrame,facesCurFrame):\n",
    "        matches = face_recognition.Capture.faces(encodeListKnown,encodeface)\n",
    "        faceDis = face_recognition.face_distance(encodeListKnown,encodeface)\n",
    "#print(faceDis)\n",
    "        matchIndex = np.argmin(faceDis)\n",
    "    if matches [matchIndex]:\n",
    "        name = classNames[matchIndex].upper()\n",
    "print(name)"
   ]
  },
  {
   "cell_type": "code",
   "execution_count": null,
   "id": "e1ef23bd-3c2d-4699-8fc0-a3274e9ab30f",
   "metadata": {},
   "outputs": [],
   "source": []
  }
 ],
 "metadata": {
  "kernelspec": {
   "display_name": "Python 3 (ipykernel)",
   "language": "python",
   "name": "python3"
  },
  "language_info": {
   "codemirror_mode": {
    "name": "ipython",
    "version": 3
   },
   "file_extension": ".py",
   "mimetype": "text/x-python",
   "name": "python",
   "nbconvert_exporter": "python",
   "pygments_lexer": "ipython3",
   "version": "3.12.1"
  }
 },
 "nbformat": 4,
 "nbformat_minor": 5
}
